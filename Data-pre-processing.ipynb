{
 "cells": [
  {
   "cell_type": "markdown",
   "id": "fewer-russia",
   "metadata": {
    "papermill": {
     "duration": 0.020557,
     "end_time": "2021-07-12T11:42:33.356416",
     "exception": false,
     "start_time": "2021-07-12T11:42:33.335859",
     "status": "completed"
    },
    "tags": []
   },
   "source": [
    "# 0 IMPORT"
   ]
  },
  {
   "cell_type": "code",
   "execution_count": 1,
   "id": "disturbed-questionnaire",
   "metadata": {
    "execution": {
     "iopub.execute_input": "2021-07-12T11:42:33.406752Z",
     "iopub.status.busy": "2021-07-12T11:42:33.404179Z",
     "iopub.status.idle": "2021-07-12T11:42:37.059559Z",
     "shell.execute_reply": "2021-07-12T11:42:37.058858Z",
     "shell.execute_reply.started": "2021-07-12T11:39:51.510493Z"
    },
    "papermill": {
     "duration": 3.682886,
     "end_time": "2021-07-12T11:42:37.059746",
     "exception": false,
     "start_time": "2021-07-12T11:42:33.376860",
     "status": "completed"
    },
    "tags": []
   },
   "outputs": [],
   "source": [
    "import numpy as np\n",
    "import pandas as pd\n",
    "\n",
    "from fastai.basics import *\n",
    "from fastai.callback.all import *\n",
    "from fastai.vision.all import *\n",
    "from fastai.medical.imaging import *\n",
    "import pydicom"
   ]
  },
  {
   "cell_type": "markdown",
   "id": "prescription-checklist",
   "metadata": {
    "papermill": {
     "duration": 0.021822,
     "end_time": "2021-07-12T11:42:37.102147",
     "exception": false,
     "start_time": "2021-07-12T11:42:37.080325",
     "status": "completed"
    },
    "tags": []
   },
   "source": [
    "# 1 LOADING THE DATASET"
   ]
  },
  {
   "cell_type": "code",
   "execution_count": 2,
   "id": "alpine-trainer",
   "metadata": {
    "execution": {
     "iopub.execute_input": "2021-07-12T11:42:37.147695Z",
     "iopub.status.busy": "2021-07-12T11:42:37.146994Z",
     "iopub.status.idle": "2021-07-12T11:42:37.248679Z",
     "shell.execute_reply": "2021-07-12T11:42:37.247979Z",
     "shell.execute_reply.started": "2021-07-12T11:41:25.998660Z"
    },
    "papermill": {
     "duration": 0.127332,
     "end_time": "2021-07-12T11:42:37.248837",
     "exception": false,
     "start_time": "2021-07-12T11:42:37.121505",
     "status": "completed"
    },
    "tags": []
   },
   "outputs": [
    {
     "name": "stdout",
     "output_type": "stream",
     "text": [
      "__study level csv__\n",
      "                   id  Negative for Pneumonia  Typical Appearance  \\\n",
      "0  00086460a852_study                       0                   1   \n",
      "1  000c9c05fd14_study                       0                   0   \n",
      "2  00292f8c37bd_study                       1                   0   \n",
      "3  005057b3f880_study                       1                   0   \n",
      "4  0051d9b12e72_study                       0                   0   \n",
      "\n",
      "   Indeterminate Appearance  Atypical Appearance  \n",
      "0                         0                    0  \n",
      "1                         0                    1  \n",
      "2                         0                    0  \n",
      "3                         0                    0  \n",
      "4                         0                    1  \n",
      "__sample submission__\n",
      "                   id    PredictionString\n",
      "0  00188a671292_study  negative 1 0 0 1 1\n",
      "1  004bd59708be_study  negative 1 0 0 1 1\n",
      "2  00508faccd39_study  negative 1 0 0 1 1\n",
      "3  006486aa80b2_study  negative 1 0 0 1 1\n",
      "4  00655178fdfc_study  negative 1 0 0 1 1\n",
      "__train level csv__\n",
      "                   id  \\\n",
      "0  000a312787f2_image   \n",
      "1  000c3a3f293f_image   \n",
      "2  0012ff7358bc_image   \n",
      "3  001398f4ff4f_image   \n",
      "4  001bd15d1891_image   \n",
      "\n",
      "                                                                                                                                                         boxes  \\\n",
      "0  [{'x': 789.28836, 'y': 582.43035, 'width': 1026.65662, 'height': 1917.30292}, {'x': 2245.91208, 'y': 591.20528, 'width': 1094.66162, 'height': 1761.54944}]   \n",
      "1                                                                                                                                                          NaN   \n",
      "2        [{'x': 677.42216, 'y': 197.97662, 'width': 867.79767, 'height': 999.78214}, {'x': 1792.69064, 'y': 402.5525, 'width': 617.02734, 'height': 1204.358}]   \n",
      "3                                                                                            [{'x': 2729, 'y': 2181.33331, 'width': 948.00012, 'height': 604}]   \n",
      "4                           [{'x': 623.23328, 'y': 1050, 'width': 714, 'height': 1106}, {'x': 2578.56661, 'y': 998.66667, 'width': 662.66667, 'height': 1120}]   \n",
      "\n",
      "                                                                                                     label  \\\n",
      "0  opacity 1 789.28836 582.43035 1815.94498 2499.73327 opacity 1 2245.91208 591.20528 3340.5737 2352.75472   \n",
      "1                                                                                           none 1 0 0 1 1   \n",
      "2   opacity 1 677.42216 197.97662 1545.21983 1197.75876 opacity 1 1792.69064 402.5525 2409.71798 1606.9105   \n",
      "3                                                          opacity 1 2729 2181.33331 3677.00012 2785.33331   \n",
      "4            opacity 1 623.23328 1050 1337.23328 2156 opacity 1 2578.56661 998.66667 3241.23328 2118.66667   \n",
      "\n",
      "  StudyInstanceUID  \n",
      "0     5776db0cec75  \n",
      "1     ff0879eb20ed  \n",
      "2     9d514ce429a7  \n",
      "3     28dddc8559b2  \n",
      "4     dfd9fdd85a3e  \n"
     ]
    }
   ],
   "source": [
    "train_image_path = \"../input/siim-covid19-detection/train_image_level.csv\"\n",
    "sample_sub_path = \"../input/siim-covid19-detection/sample_submission.csv\"\n",
    "train_study_path = \"../input/siim-covid19-detection/train_study_level.csv\"\n",
    "print (\"__study level csv__\")\n",
    "train_study_level = pd.read_csv(train_study_path)\n",
    "print (train_study_level.head())\n",
    "\n",
    "print (\"__sample submission__\")\n",
    "sample_sub = pd.read_csv(sample_sub_path)\n",
    "print (sample_sub.head())\n",
    "\n",
    "print (\"__train level csv__\")\n",
    "train_image_level = pd.read_csv(train_image_path)\n",
    "print (train_image_level.head())"
   ]
  },
  {
   "cell_type": "markdown",
   "id": "entitled-surrey",
   "metadata": {
    "papermill": {
     "duration": 0.019515,
     "end_time": "2021-07-12T11:42:37.288986",
     "exception": false,
     "start_time": "2021-07-12T11:42:37.269471",
     "status": "completed"
    },
    "tags": []
   },
   "source": [
    "# 2 WORKING ON DATAFRAMES"
   ]
  },
  {
   "cell_type": "code",
   "execution_count": 3,
   "id": "crude-transportation",
   "metadata": {
    "execution": {
     "iopub.execute_input": "2021-07-12T11:42:37.341524Z",
     "iopub.status.busy": "2021-07-12T11:42:37.340791Z",
     "iopub.status.idle": "2021-07-12T11:42:37.348974Z",
     "shell.execute_reply": "2021-07-12T11:42:37.349470Z",
     "shell.execute_reply.started": "2021-07-12T11:39:53.179664Z"
    },
    "papermill": {
     "duration": 0.04073,
     "end_time": "2021-07-12T11:42:37.349649",
     "exception": false,
     "start_time": "2021-07-12T11:42:37.308919",
     "status": "completed"
    },
    "tags": []
   },
   "outputs": [
    {
     "data": {
      "text/html": [
       "<div>\n",
       "<style scoped>\n",
       "    .dataframe tbody tr th:only-of-type {\n",
       "        vertical-align: middle;\n",
       "    }\n",
       "\n",
       "    .dataframe tbody tr th {\n",
       "        vertical-align: top;\n",
       "    }\n",
       "\n",
       "    .dataframe thead th {\n",
       "        text-align: right;\n",
       "    }\n",
       "</style>\n",
       "<table border=\"1\" class=\"dataframe\">\n",
       "  <thead>\n",
       "    <tr style=\"text-align: right;\">\n",
       "      <th></th>\n",
       "      <th>StudyInstanceUID</th>\n",
       "      <th>Negative for Pneumonia</th>\n",
       "      <th>Typical Appearance</th>\n",
       "      <th>Indeterminate Appearance</th>\n",
       "      <th>Atypical Appearance</th>\n",
       "    </tr>\n",
       "  </thead>\n",
       "  <tbody>\n",
       "    <tr>\n",
       "      <th>0</th>\n",
       "      <td>00086460a852_study</td>\n",
       "      <td>0</td>\n",
       "      <td>1</td>\n",
       "      <td>0</td>\n",
       "      <td>0</td>\n",
       "    </tr>\n",
       "  </tbody>\n",
       "</table>\n",
       "</div>"
      ],
      "text/plain": [
       "     StudyInstanceUID  Negative for Pneumonia  Typical Appearance  \\\n",
       "0  00086460a852_study                       0                   1   \n",
       "\n",
       "   Indeterminate Appearance  Atypical Appearance  \n",
       "0                         0                    0  "
      ]
     },
     "execution_count": 3,
     "metadata": {},
     "output_type": "execute_result"
    }
   ],
   "source": [
    "#rename the column to merge the dataframes\n",
    "train_study_level.rename(columns = {'id': 'StudyInstanceUID'}, inplace =True)\n",
    "train_study_level[:1]"
   ]
  },
  {
   "cell_type": "code",
   "execution_count": 4,
   "id": "secret-receptor",
   "metadata": {
    "execution": {
     "iopub.execute_input": "2021-07-12T11:42:37.393858Z",
     "iopub.status.busy": "2021-07-12T11:42:37.393161Z",
     "iopub.status.idle": "2021-07-12T11:42:37.408641Z",
     "shell.execute_reply": "2021-07-12T11:42:37.409191Z",
     "shell.execute_reply.started": "2021-07-12T11:39:53.197835Z"
    },
    "papermill": {
     "duration": 0.039164,
     "end_time": "2021-07-12T11:42:37.409366",
     "exception": false,
     "start_time": "2021-07-12T11:42:37.370202",
     "status": "completed"
    },
    "tags": []
   },
   "outputs": [
    {
     "data": {
      "text/html": [
       "<div>\n",
       "<style scoped>\n",
       "    .dataframe tbody tr th:only-of-type {\n",
       "        vertical-align: middle;\n",
       "    }\n",
       "\n",
       "    .dataframe tbody tr th {\n",
       "        vertical-align: top;\n",
       "    }\n",
       "\n",
       "    .dataframe thead th {\n",
       "        text-align: right;\n",
       "    }\n",
       "</style>\n",
       "<table border=\"1\" class=\"dataframe\">\n",
       "  <thead>\n",
       "    <tr style=\"text-align: right;\">\n",
       "      <th></th>\n",
       "      <th>StudyInstanceUID</th>\n",
       "      <th>Negative for Pneumonia</th>\n",
       "      <th>Typical Appearance</th>\n",
       "      <th>Indeterminate Appearance</th>\n",
       "      <th>Atypical Appearance</th>\n",
       "    </tr>\n",
       "  </thead>\n",
       "  <tbody>\n",
       "    <tr>\n",
       "      <th>0</th>\n",
       "      <td>00086460a852</td>\n",
       "      <td>0</td>\n",
       "      <td>1</td>\n",
       "      <td>0</td>\n",
       "      <td>0</td>\n",
       "    </tr>\n",
       "    <tr>\n",
       "      <th>1</th>\n",
       "      <td>000c9c05fd14</td>\n",
       "      <td>0</td>\n",
       "      <td>0</td>\n",
       "      <td>0</td>\n",
       "      <td>1</td>\n",
       "    </tr>\n",
       "    <tr>\n",
       "      <th>2</th>\n",
       "      <td>00292f8c37b</td>\n",
       "      <td>1</td>\n",
       "      <td>0</td>\n",
       "      <td>0</td>\n",
       "      <td>0</td>\n",
       "    </tr>\n",
       "    <tr>\n",
       "      <th>3</th>\n",
       "      <td>005057b3f880</td>\n",
       "      <td>1</td>\n",
       "      <td>0</td>\n",
       "      <td>0</td>\n",
       "      <td>0</td>\n",
       "    </tr>\n",
       "    <tr>\n",
       "      <th>4</th>\n",
       "      <td>0051d9b12e72</td>\n",
       "      <td>0</td>\n",
       "      <td>0</td>\n",
       "      <td>0</td>\n",
       "      <td>1</td>\n",
       "    </tr>\n",
       "  </tbody>\n",
       "</table>\n",
       "</div>"
      ],
      "text/plain": [
       "  StudyInstanceUID  Negative for Pneumonia  Typical Appearance  \\\n",
       "0     00086460a852                       0                   1   \n",
       "1     000c9c05fd14                       0                   0   \n",
       "2      00292f8c37b                       1                   0   \n",
       "3     005057b3f880                       1                   0   \n",
       "4     0051d9b12e72                       0                   0   \n",
       "\n",
       "   Indeterminate Appearance  Atypical Appearance  \n",
       "0                         0                    0  \n",
       "1                         0                    1  \n",
       "2                         0                    0  \n",
       "3                         0                    0  \n",
       "4                         0                    1  "
      ]
     },
     "execution_count": 4,
     "metadata": {},
     "output_type": "execute_result"
    }
   ],
   "source": [
    "#remove the _study in 'StudyInstanceUID'\n",
    "train_study_level['StudyInstanceUID'] = train_study_level['StudyInstanceUID'].str.strip('_study')\n",
    "train_study_level[:5]"
   ]
  },
  {
   "cell_type": "code",
   "execution_count": 5,
   "id": "identical-remove",
   "metadata": {
    "execution": {
     "iopub.execute_input": "2021-07-12T11:42:37.455471Z",
     "iopub.status.busy": "2021-07-12T11:42:37.454769Z",
     "iopub.status.idle": "2021-07-12T11:42:37.484313Z",
     "shell.execute_reply": "2021-07-12T11:42:37.484853Z",
     "shell.execute_reply.started": "2021-07-12T11:39:53.219373Z"
    },
    "papermill": {
     "duration": 0.054254,
     "end_time": "2021-07-12T11:42:37.485025",
     "exception": false,
     "start_time": "2021-07-12T11:42:37.430771",
     "status": "completed"
    },
    "tags": []
   },
   "outputs": [
    {
     "data": {
      "text/html": [
       "<div>\n",
       "<style scoped>\n",
       "    .dataframe tbody tr th:only-of-type {\n",
       "        vertical-align: middle;\n",
       "    }\n",
       "\n",
       "    .dataframe tbody tr th {\n",
       "        vertical-align: top;\n",
       "    }\n",
       "\n",
       "    .dataframe thead th {\n",
       "        text-align: right;\n",
       "    }\n",
       "</style>\n",
       "<table border=\"1\" class=\"dataframe\">\n",
       "  <thead>\n",
       "    <tr style=\"text-align: right;\">\n",
       "      <th></th>\n",
       "      <th>id</th>\n",
       "      <th>boxes</th>\n",
       "      <th>label</th>\n",
       "      <th>StudyInstanceUID</th>\n",
       "      <th>Negative for Pneumonia</th>\n",
       "      <th>Typical Appearance</th>\n",
       "      <th>Indeterminate Appearance</th>\n",
       "      <th>Atypical Appearance</th>\n",
       "    </tr>\n",
       "  </thead>\n",
       "  <tbody>\n",
       "    <tr>\n",
       "      <th>0</th>\n",
       "      <td>000a312787f2_image</td>\n",
       "      <td>[{'x': 789.28836, 'y': 582.43035, 'width': 1026.65662, 'height': 1917.30292}, {'x': 2245.91208, 'y': 591.20528, 'width': 1094.66162, 'height': 1761.54944}]</td>\n",
       "      <td>opacity 1 789.28836 582.43035 1815.94498 2499.73327 opacity 1 2245.91208 591.20528 3340.5737 2352.75472</td>\n",
       "      <td>5776db0cec75</td>\n",
       "      <td>0</td>\n",
       "      <td>1</td>\n",
       "      <td>0</td>\n",
       "      <td>0</td>\n",
       "    </tr>\n",
       "  </tbody>\n",
       "</table>\n",
       "</div>"
      ],
      "text/plain": [
       "                   id  \\\n",
       "0  000a312787f2_image   \n",
       "\n",
       "                                                                                                                                                         boxes  \\\n",
       "0  [{'x': 789.28836, 'y': 582.43035, 'width': 1026.65662, 'height': 1917.30292}, {'x': 2245.91208, 'y': 591.20528, 'width': 1094.66162, 'height': 1761.54944}]   \n",
       "\n",
       "                                                                                                     label  \\\n",
       "0  opacity 1 789.28836 582.43035 1815.94498 2499.73327 opacity 1 2245.91208 591.20528 3340.5737 2352.75472   \n",
       "\n",
       "  StudyInstanceUID  Negative for Pneumonia  Typical Appearance  \\\n",
       "0     5776db0cec75                       0                   1   \n",
       "\n",
       "   Indeterminate Appearance  Atypical Appearance  \n",
       "0                         0                    0  "
      ]
     },
     "execution_count": 5,
     "metadata": {},
     "output_type": "execute_result"
    }
   ],
   "source": [
    "#merging the two dataframes\n",
    "train_df = train_image_level.merge(train_study_level)\n",
    "train_df[:1]"
   ]
  },
  {
   "cell_type": "markdown",
   "id": "surprising-bandwidth",
   "metadata": {
    "papermill": {
     "duration": 0.021088,
     "end_time": "2021-07-12T11:42:37.527691",
     "exception": false,
     "start_time": "2021-07-12T11:42:37.506603",
     "status": "completed"
    },
    "tags": []
   },
   "source": [
    "We then clean up the dataframe. We drop a few columns and make a single column as class label. We also drop `boxes` since we can use `label` to obtain coordinates for binding boxes."
   ]
  },
  {
   "cell_type": "code",
   "execution_count": 6,
   "id": "opposite-amino",
   "metadata": {
    "execution": {
     "iopub.execute_input": "2021-07-12T11:42:37.583603Z",
     "iopub.status.busy": "2021-07-12T11:42:37.582671Z",
     "iopub.status.idle": "2021-07-12T11:42:37.603876Z",
     "shell.execute_reply": "2021-07-12T11:42:37.603217Z",
     "shell.execute_reply.started": "2021-07-12T11:39:53.246861Z"
    },
    "papermill": {
     "duration": 0.054783,
     "end_time": "2021-07-12T11:42:37.604018",
     "exception": false,
     "start_time": "2021-07-12T11:42:37.549235",
     "status": "completed"
    },
    "tags": []
   },
   "outputs": [
    {
     "data": {
      "text/html": [
       "<div>\n",
       "<style scoped>\n",
       "    .dataframe tbody tr th:only-of-type {\n",
       "        vertical-align: middle;\n",
       "    }\n",
       "\n",
       "    .dataframe tbody tr th {\n",
       "        vertical-align: top;\n",
       "    }\n",
       "\n",
       "    .dataframe thead th {\n",
       "        text-align: right;\n",
       "    }\n",
       "</style>\n",
       "<table border=\"1\" class=\"dataframe\">\n",
       "  <thead>\n",
       "    <tr style=\"text-align: right;\">\n",
       "      <th></th>\n",
       "      <th>id</th>\n",
       "      <th>label</th>\n",
       "      <th>class_y</th>\n",
       "    </tr>\n",
       "  </thead>\n",
       "  <tbody>\n",
       "    <tr>\n",
       "      <th>0</th>\n",
       "      <td>000a312787f2</td>\n",
       "      <td>opacity 1 789.28836 582.43035 1815.94498 2499.73327 opacity 1 2245.91208 591.20528 3340.5737 2352.75472</td>\n",
       "      <td>Typical</td>\n",
       "    </tr>\n",
       "    <tr>\n",
       "      <th>1</th>\n",
       "      <td>0012ff7358bc</td>\n",
       "      <td>opacity 1 677.42216 197.97662 1545.21983 1197.75876 opacity 1 1792.69064 402.5525 2409.71798 1606.9105</td>\n",
       "      <td>Typical</td>\n",
       "    </tr>\n",
       "    <tr>\n",
       "      <th>2</th>\n",
       "      <td>001398f4ff4f</td>\n",
       "      <td>opacity 1 2729 2181.33331 3677.00012 2785.33331</td>\n",
       "      <td>Atypical</td>\n",
       "    </tr>\n",
       "    <tr>\n",
       "      <th>3</th>\n",
       "      <td>0022227f5adf</td>\n",
       "      <td>opacity 1 1857.2065 508.30565 2233.23384 907.83476</td>\n",
       "      <td>Indeterminate</td>\n",
       "    </tr>\n",
       "    <tr>\n",
       "      <th>4</th>\n",
       "      <td>0023f02ae886</td>\n",
       "      <td>none 1 0 0 1 1</td>\n",
       "      <td>Negative</td>\n",
       "    </tr>\n",
       "  </tbody>\n",
       "</table>\n",
       "</div>"
      ],
      "text/plain": [
       "             id  \\\n",
       "0  000a312787f2   \n",
       "1  0012ff7358bc   \n",
       "2  001398f4ff4f   \n",
       "3  0022227f5adf   \n",
       "4  0023f02ae886   \n",
       "\n",
       "                                                                                                     label  \\\n",
       "0  opacity 1 789.28836 582.43035 1815.94498 2499.73327 opacity 1 2245.91208 591.20528 3340.5737 2352.75472   \n",
       "1   opacity 1 677.42216 197.97662 1545.21983 1197.75876 opacity 1 1792.69064 402.5525 2409.71798 1606.9105   \n",
       "2                                                          opacity 1 2729 2181.33331 3677.00012 2785.33331   \n",
       "3                                                       opacity 1 1857.2065 508.30565 2233.23384 907.83476   \n",
       "4                                                                                           none 1 0 0 1 1   \n",
       "\n",
       "         class_y  \n",
       "0        Typical  \n",
       "1        Typical  \n",
       "2       Atypical  \n",
       "3  Indeterminate  \n",
       "4       Negative  "
      ]
     },
     "execution_count": 6,
     "metadata": {},
     "output_type": "execute_result"
    }
   ],
   "source": [
    "train_df['id'] = train_df['id'].str.strip('_image')\n",
    "train_df.loc[train_df['Negative for Pneumonia']==1, 'class_y'] = 'Negative'\n",
    "train_df.loc[train_df['Typical Appearance']==1, 'class_y'] = 'Typical'\n",
    "train_df.loc[train_df['Indeterminate Appearance']==1, 'class_y'] = 'Indeterminate'\n",
    "train_df.loc[train_df['Atypical Appearance']==1, 'class_y'] = 'Atypical'\n",
    "train_df.drop(['boxes', 'Negative for Pneumonia', 'Typical Appearance', \n",
    "             'Indeterminate Appearance', 'Atypical Appearance', 'StudyInstanceUID'], axis=1, inplace=True)\n",
    "train_df[:5]"
   ]
  },
  {
   "cell_type": "code",
   "execution_count": 7,
   "id": "forty-tattoo",
   "metadata": {
    "execution": {
     "iopub.execute_input": "2021-07-12T11:42:37.656681Z",
     "iopub.status.busy": "2021-07-12T11:42:37.656034Z",
     "iopub.status.idle": "2021-07-12T11:42:37.661125Z",
     "shell.execute_reply": "2021-07-12T11:42:37.661729Z",
     "shell.execute_reply.started": "2021-07-12T11:39:53.281332Z"
    },
    "papermill": {
     "duration": 0.035841,
     "end_time": "2021-07-12T11:42:37.661901",
     "exception": false,
     "start_time": "2021-07-12T11:42:37.626060",
     "status": "completed"
    },
    "tags": []
   },
   "outputs": [
    {
     "data": {
      "text/plain": [
       "Typical          2665\n",
       "Negative         1507\n",
       "Indeterminate     970\n",
       "Atypical          432\n",
       "Name: class_y, dtype: int64"
      ]
     },
     "execution_count": 7,
     "metadata": {},
     "output_type": "execute_result"
    }
   ],
   "source": [
    "train_df.class_y.value_counts()"
   ]
  },
  {
   "cell_type": "code",
   "execution_count": 8,
   "id": "bearing-trash",
   "metadata": {
    "execution": {
     "iopub.execute_input": "2021-07-12T11:42:37.710128Z",
     "iopub.status.busy": "2021-07-12T11:42:37.709501Z",
     "iopub.status.idle": "2021-07-12T11:42:37.799082Z",
     "shell.execute_reply": "2021-07-12T11:42:37.798419Z",
     "shell.execute_reply.started": "2021-07-12T11:39:53.293371Z"
    },
    "papermill": {
     "duration": 0.114777,
     "end_time": "2021-07-12T11:42:37.799224",
     "exception": false,
     "start_time": "2021-07-12T11:42:37.684447",
     "status": "completed"
    },
    "tags": []
   },
   "outputs": [],
   "source": [
    "#identifying number of boxes\n",
    "num_of_boxes = []\n",
    "for i in train_df.index:\n",
    "    label_len = len(train_df.label[i].split(' '))\n",
    "    num_box = label_len//6\n",
    "    num_of_boxes.append(num_box)"
   ]
  },
  {
   "cell_type": "code",
   "execution_count": 9,
   "id": "configured-singles",
   "metadata": {
    "execution": {
     "iopub.execute_input": "2021-07-12T11:42:37.858727Z",
     "iopub.status.busy": "2021-07-12T11:42:37.857609Z",
     "iopub.status.idle": "2021-07-12T11:42:37.862647Z",
     "shell.execute_reply": "2021-07-12T11:42:37.862085Z",
     "shell.execute_reply.started": "2021-07-12T11:39:53.396182Z"
    },
    "papermill": {
     "duration": 0.041001,
     "end_time": "2021-07-12T11:42:37.862804",
     "exception": false,
     "start_time": "2021-07-12T11:42:37.821803",
     "status": "completed"
    },
    "tags": []
   },
   "outputs": [
    {
     "data": {
      "text/html": [
       "<div>\n",
       "<style scoped>\n",
       "    .dataframe tbody tr th:only-of-type {\n",
       "        vertical-align: middle;\n",
       "    }\n",
       "\n",
       "    .dataframe tbody tr th {\n",
       "        vertical-align: top;\n",
       "    }\n",
       "\n",
       "    .dataframe thead th {\n",
       "        text-align: right;\n",
       "    }\n",
       "</style>\n",
       "<table border=\"1\" class=\"dataframe\">\n",
       "  <thead>\n",
       "    <tr style=\"text-align: right;\">\n",
       "      <th></th>\n",
       "      <th>id</th>\n",
       "      <th>label</th>\n",
       "      <th>class_y</th>\n",
       "      <th>num_of_boxes</th>\n",
       "    </tr>\n",
       "  </thead>\n",
       "  <tbody>\n",
       "    <tr>\n",
       "      <th>0</th>\n",
       "      <td>000a312787f2</td>\n",
       "      <td>opacity 1 789.28836 582.43035 1815.94498 2499.73327 opacity 1 2245.91208 591.20528 3340.5737 2352.75472</td>\n",
       "      <td>Typical</td>\n",
       "      <td>2</td>\n",
       "    </tr>\n",
       "    <tr>\n",
       "      <th>1</th>\n",
       "      <td>0012ff7358bc</td>\n",
       "      <td>opacity 1 677.42216 197.97662 1545.21983 1197.75876 opacity 1 1792.69064 402.5525 2409.71798 1606.9105</td>\n",
       "      <td>Typical</td>\n",
       "      <td>2</td>\n",
       "    </tr>\n",
       "    <tr>\n",
       "      <th>2</th>\n",
       "      <td>001398f4ff4f</td>\n",
       "      <td>opacity 1 2729 2181.33331 3677.00012 2785.33331</td>\n",
       "      <td>Atypical</td>\n",
       "      <td>1</td>\n",
       "    </tr>\n",
       "    <tr>\n",
       "      <th>3</th>\n",
       "      <td>0022227f5adf</td>\n",
       "      <td>opacity 1 1857.2065 508.30565 2233.23384 907.83476</td>\n",
       "      <td>Indeterminate</td>\n",
       "      <td>1</td>\n",
       "    </tr>\n",
       "    <tr>\n",
       "      <th>4</th>\n",
       "      <td>0023f02ae886</td>\n",
       "      <td>none 1 0 0 1 1</td>\n",
       "      <td>Negative</td>\n",
       "      <td>1</td>\n",
       "    </tr>\n",
       "  </tbody>\n",
       "</table>\n",
       "</div>"
      ],
      "text/plain": [
       "             id  \\\n",
       "0  000a312787f2   \n",
       "1  0012ff7358bc   \n",
       "2  001398f4ff4f   \n",
       "3  0022227f5adf   \n",
       "4  0023f02ae886   \n",
       "\n",
       "                                                                                                     label  \\\n",
       "0  opacity 1 789.28836 582.43035 1815.94498 2499.73327 opacity 1 2245.91208 591.20528 3340.5737 2352.75472   \n",
       "1   opacity 1 677.42216 197.97662 1545.21983 1197.75876 opacity 1 1792.69064 402.5525 2409.71798 1606.9105   \n",
       "2                                                          opacity 1 2729 2181.33331 3677.00012 2785.33331   \n",
       "3                                                       opacity 1 1857.2065 508.30565 2233.23384 907.83476   \n",
       "4                                                                                           none 1 0 0 1 1   \n",
       "\n",
       "         class_y  num_of_boxes  \n",
       "0        Typical             2  \n",
       "1        Typical             2  \n",
       "2       Atypical             1  \n",
       "3  Indeterminate             1  \n",
       "4       Negative             1  "
      ]
     },
     "execution_count": 9,
     "metadata": {},
     "output_type": "execute_result"
    }
   ],
   "source": [
    "train_df['num_of_boxes'] = num_of_boxes\n",
    "train_df.head() "
   ]
  },
  {
   "cell_type": "code",
   "execution_count": 10,
   "id": "after-latino",
   "metadata": {
    "execution": {
     "iopub.execute_input": "2021-07-12T11:42:37.916348Z",
     "iopub.status.busy": "2021-07-12T11:42:37.915677Z",
     "iopub.status.idle": "2021-07-12T11:42:37.918220Z",
     "shell.execute_reply": "2021-07-12T11:42:37.918740Z",
     "shell.execute_reply.started": "2021-07-12T11:39:53.415179Z"
    },
    "papermill": {
     "duration": 0.032734,
     "end_time": "2021-07-12T11:42:37.918913",
     "exception": false,
     "start_time": "2021-07-12T11:42:37.886179",
     "status": "completed"
    },
    "tags": []
   },
   "outputs": [
    {
     "data": {
      "text/plain": [
       "2    2750\n",
       "1    2636\n",
       "3     165\n",
       "4      22\n",
       "5       1\n",
       "Name: num_of_boxes, dtype: int64"
      ]
     },
     "execution_count": 10,
     "metadata": {},
     "output_type": "execute_result"
    }
   ],
   "source": [
    "train_df.num_of_boxes.value_counts()"
   ]
  },
  {
   "cell_type": "markdown",
   "id": "comprehensive-literature",
   "metadata": {
    "papermill": {
     "duration": 0.023029,
     "end_time": "2021-07-12T11:42:37.965539",
     "exception": false,
     "start_time": "2021-07-12T11:42:37.942510",
     "status": "completed"
    },
    "tags": []
   },
   "source": [
    "Now we extract co-ordinates of the binding boxes from `label`"
   ]
  },
  {
   "cell_type": "code",
   "execution_count": 11,
   "id": "retained-cemetery",
   "metadata": {
    "execution": {
     "iopub.execute_input": "2021-07-12T11:42:38.015826Z",
     "iopub.status.busy": "2021-07-12T11:42:38.015097Z",
     "iopub.status.idle": "2021-07-12T11:42:38.205003Z",
     "shell.execute_reply": "2021-07-12T11:42:38.205498Z",
     "shell.execute_reply.started": "2021-07-12T11:39:53.430132Z"
    },
    "papermill": {
     "duration": 0.216256,
     "end_time": "2021-07-12T11:42:38.205685",
     "exception": false,
     "start_time": "2021-07-12T11:42:37.989429",
     "status": "completed"
    },
    "tags": []
   },
   "outputs": [],
   "source": [
    "\n",
    "label_COORD = []\n",
    "for i in train_df.index:\n",
    "    num_of_boxes = train_df.num_of_boxes[i]\n",
    "    val = train_df.label[i].split(' ')\n",
    "    if num_of_boxes == 1 : coord = val[2:6]\n",
    "    if num_of_boxes == 2 : coord = val[2:6] + val [8:12]\n",
    "    if num_of_boxes == 3 : coord = val[2:6] + val [8:12] + val [14:18]\n",
    "    if num_of_boxes == 4 : coord = val[2:6] + val [8:12] + val [14:18] + val[20:24]\n",
    "    if num_of_boxes == 5 : coord = val[2:6] + val [8:12] + val [14:18] + val[20:24] + val[26:30]\n",
    "    label_COORD.append(coord)\n",
    "     "
   ]
  },
  {
   "cell_type": "code",
   "execution_count": 12,
   "id": "sitting-resource",
   "metadata": {
    "execution": {
     "iopub.execute_input": "2021-07-12T11:42:38.255377Z",
     "iopub.status.busy": "2021-07-12T11:42:38.254733Z",
     "iopub.status.idle": "2021-07-12T11:42:38.273770Z",
     "shell.execute_reply": "2021-07-12T11:42:38.274249Z",
     "shell.execute_reply.started": "2021-07-12T11:39:53.627468Z"
    },
    "papermill": {
     "duration": 0.045404,
     "end_time": "2021-07-12T11:42:38.274469",
     "exception": false,
     "start_time": "2021-07-12T11:42:38.229065",
     "status": "completed"
    },
    "tags": []
   },
   "outputs": [
    {
     "data": {
      "text/html": [
       "<div>\n",
       "<style scoped>\n",
       "    .dataframe tbody tr th:only-of-type {\n",
       "        vertical-align: middle;\n",
       "    }\n",
       "\n",
       "    .dataframe tbody tr th {\n",
       "        vertical-align: top;\n",
       "    }\n",
       "\n",
       "    .dataframe thead th {\n",
       "        text-align: right;\n",
       "    }\n",
       "</style>\n",
       "<table border=\"1\" class=\"dataframe\">\n",
       "  <thead>\n",
       "    <tr style=\"text-align: right;\">\n",
       "      <th></th>\n",
       "      <th>id</th>\n",
       "      <th>class_y</th>\n",
       "      <th>num_of_boxes</th>\n",
       "      <th>label_COORD</th>\n",
       "    </tr>\n",
       "  </thead>\n",
       "  <tbody>\n",
       "    <tr>\n",
       "      <th>0</th>\n",
       "      <td>000a312787f2</td>\n",
       "      <td>Typical</td>\n",
       "      <td>2</td>\n",
       "      <td>[789.28836, 582.43035, 1815.94498, 2499.73327, 2245.91208, 591.20528, 3340.5737, 2352.75472]</td>\n",
       "    </tr>\n",
       "    <tr>\n",
       "      <th>1</th>\n",
       "      <td>0012ff7358bc</td>\n",
       "      <td>Typical</td>\n",
       "      <td>2</td>\n",
       "      <td>[677.42216, 197.97662, 1545.21983, 1197.75876, 1792.69064, 402.5525, 2409.71798, 1606.9105]</td>\n",
       "    </tr>\n",
       "    <tr>\n",
       "      <th>2</th>\n",
       "      <td>001398f4ff4f</td>\n",
       "      <td>Atypical</td>\n",
       "      <td>1</td>\n",
       "      <td>[2729, 2181.33331, 3677.00012, 2785.33331]</td>\n",
       "    </tr>\n",
       "    <tr>\n",
       "      <th>3</th>\n",
       "      <td>0022227f5adf</td>\n",
       "      <td>Indeterminate</td>\n",
       "      <td>1</td>\n",
       "      <td>[1857.2065, 508.30565, 2233.23384, 907.83476]</td>\n",
       "    </tr>\n",
       "    <tr>\n",
       "      <th>4</th>\n",
       "      <td>0023f02ae886</td>\n",
       "      <td>Negative</td>\n",
       "      <td>1</td>\n",
       "      <td>[0, 0, 1, 1]</td>\n",
       "    </tr>\n",
       "  </tbody>\n",
       "</table>\n",
       "</div>"
      ],
      "text/plain": [
       "             id        class_y  num_of_boxes  \\\n",
       "0  000a312787f2        Typical             2   \n",
       "1  0012ff7358bc        Typical             2   \n",
       "2  001398f4ff4f       Atypical             1   \n",
       "3  0022227f5adf  Indeterminate             1   \n",
       "4  0023f02ae886       Negative             1   \n",
       "\n",
       "                                                                                    label_COORD  \n",
       "0  [789.28836, 582.43035, 1815.94498, 2499.73327, 2245.91208, 591.20528, 3340.5737, 2352.75472]  \n",
       "1   [677.42216, 197.97662, 1545.21983, 1197.75876, 1792.69064, 402.5525, 2409.71798, 1606.9105]  \n",
       "2                                                    [2729, 2181.33331, 3677.00012, 2785.33331]  \n",
       "3                                                 [1857.2065, 508.30565, 2233.23384, 907.83476]  \n",
       "4                                                                                  [0, 0, 1, 1]  "
      ]
     },
     "execution_count": 12,
     "metadata": {},
     "output_type": "execute_result"
    }
   ],
   "source": [
    "train_df['label_COORD'] = label_COORD\n",
    "del train_df['label']\n",
    "train_df.head()"
   ]
  },
  {
   "cell_type": "markdown",
   "id": "cooperative-electronics",
   "metadata": {
    "papermill": {
     "duration": 0.023347,
     "end_time": "2021-07-12T11:42:38.321904",
     "exception": false,
     "start_time": "2021-07-12T11:42:38.298557",
     "status": "completed"
    },
    "tags": []
   },
   "source": [
    "Rename the column `id` to `SOPInstanceUID` to merge the dataframe with meta data"
   ]
  },
  {
   "cell_type": "code",
   "execution_count": 13,
   "id": "virtual-joyce",
   "metadata": {
    "execution": {
     "iopub.execute_input": "2021-07-12T11:42:38.373140Z",
     "iopub.status.busy": "2021-07-12T11:42:38.372467Z",
     "iopub.status.idle": "2021-07-12T11:42:38.383007Z",
     "shell.execute_reply": "2021-07-12T11:42:38.383508Z",
     "shell.execute_reply.started": "2021-07-12T11:39:53.652232Z"
    },
    "papermill": {
     "duration": 0.037564,
     "end_time": "2021-07-12T11:42:38.383688",
     "exception": false,
     "start_time": "2021-07-12T11:42:38.346124",
     "status": "completed"
    },
    "tags": []
   },
   "outputs": [
    {
     "data": {
      "text/html": [
       "<div>\n",
       "<style scoped>\n",
       "    .dataframe tbody tr th:only-of-type {\n",
       "        vertical-align: middle;\n",
       "    }\n",
       "\n",
       "    .dataframe tbody tr th {\n",
       "        vertical-align: top;\n",
       "    }\n",
       "\n",
       "    .dataframe thead th {\n",
       "        text-align: right;\n",
       "    }\n",
       "</style>\n",
       "<table border=\"1\" class=\"dataframe\">\n",
       "  <thead>\n",
       "    <tr style=\"text-align: right;\">\n",
       "      <th></th>\n",
       "      <th>SOPInstanceUID</th>\n",
       "      <th>class_y</th>\n",
       "      <th>num_of_boxes</th>\n",
       "      <th>label_COORD</th>\n",
       "    </tr>\n",
       "  </thead>\n",
       "  <tbody>\n",
       "    <tr>\n",
       "      <th>0</th>\n",
       "      <td>000a312787f2</td>\n",
       "      <td>Typical</td>\n",
       "      <td>2</td>\n",
       "      <td>[789.28836, 582.43035, 1815.94498, 2499.73327, 2245.91208, 591.20528, 3340.5737, 2352.75472]</td>\n",
       "    </tr>\n",
       "  </tbody>\n",
       "</table>\n",
       "</div>"
      ],
      "text/plain": [
       "  SOPInstanceUID  class_y  num_of_boxes  \\\n",
       "0   000a312787f2  Typical             2   \n",
       "\n",
       "                                                                                    label_COORD  \n",
       "0  [789.28836, 582.43035, 1815.94498, 2499.73327, 2245.91208, 591.20528, 3340.5737, 2352.75472]  "
      ]
     },
     "execution_count": 13,
     "metadata": {},
     "output_type": "execute_result"
    }
   ],
   "source": [
    "train_df.rename(columns = {'id':'SOPInstanceUID'},inplace = True)\n",
    "train_df[:1]"
   ]
  },
  {
   "cell_type": "markdown",
   "id": "expired-north",
   "metadata": {
    "papermill": {
     "duration": 0.023695,
     "end_time": "2021-07-12T11:42:38.431677",
     "exception": false,
     "start_time": "2021-07-12T11:42:38.407982",
     "status": "completed"
    },
    "tags": []
   },
   "source": [
    "# 3 LOADING THE META DATA"
   ]
  },
  {
   "cell_type": "markdown",
   "id": "personalized-friendship",
   "metadata": {
    "papermill": {
     "duration": 0.023595,
     "end_time": "2021-07-12T11:42:38.479438",
     "exception": false,
     "start_time": "2021-07-12T11:42:38.455843",
     "status": "completed"
    },
    "tags": []
   },
   "source": [
    "[We then load the DICOM metadata that we have obtained](https://www.kaggle.com/slimshadymm/visualizing-dicoms) "
   ]
  },
  {
   "cell_type": "code",
   "execution_count": 14,
   "id": "annoying-freedom",
   "metadata": {
    "execution": {
     "iopub.execute_input": "2021-07-12T11:42:38.530611Z",
     "iopub.status.busy": "2021-07-12T11:42:38.529897Z",
     "iopub.status.idle": "2021-07-12T11:42:40.067065Z",
     "shell.execute_reply": "2021-07-12T11:42:40.066534Z",
     "shell.execute_reply.started": "2021-07-12T11:39:53.669029Z"
    },
    "papermill": {
     "duration": 1.563881,
     "end_time": "2021-07-12T11:42:40.067205",
     "exception": false,
     "start_time": "2021-07-12T11:42:38.503324",
     "status": "completed"
    },
    "tags": []
   },
   "outputs": [
    {
     "data": {
      "text/html": [
       "<div>\n",
       "<style scoped>\n",
       "    .dataframe tbody tr th:only-of-type {\n",
       "        vertical-align: middle;\n",
       "    }\n",
       "\n",
       "    .dataframe tbody tr th {\n",
       "        vertical-align: top;\n",
       "    }\n",
       "\n",
       "    .dataframe thead th {\n",
       "        text-align: right;\n",
       "    }\n",
       "</style>\n",
       "<table border=\"1\" class=\"dataframe\">\n",
       "  <thead>\n",
       "    <tr style=\"text-align: right;\">\n",
       "      <th></th>\n",
       "      <th>SpecificCharacterSet</th>\n",
       "      <th>ImageType</th>\n",
       "      <th>SOPClassUID</th>\n",
       "      <th>SOPInstanceUID</th>\n",
       "      <th>StudyDate</th>\n",
       "      <th>StudyTime</th>\n",
       "      <th>AccessionNumber</th>\n",
       "      <th>Modality</th>\n",
       "      <th></th>\n",
       "      <th>PatientName</th>\n",
       "      <th>...</th>\n",
       "      <th>img_mean</th>\n",
       "      <th>img_std</th>\n",
       "      <th>img_pct_window</th>\n",
       "      <th>ImageType2</th>\n",
       "      <th>ImageType3</th>\n",
       "      <th>ImageType4</th>\n",
       "      <th>ImageType5</th>\n",
       "      <th>ImageType6</th>\n",
       "      <th>ImageType7</th>\n",
       "      <th>ImageType8</th>\n",
       "    </tr>\n",
       "  </thead>\n",
       "  <tbody>\n",
       "    <tr>\n",
       "      <th>0</th>\n",
       "      <td>ISO_IR 100</td>\n",
       "      <td>ORIGINAL</td>\n",
       "      <td>71228e4340de</td>\n",
       "      <td>d8ba599611e5</td>\n",
       "      <td>837af68926b7</td>\n",
       "      <td>81c1a714dbda</td>\n",
       "      <td>c4aef4fc15a2</td>\n",
       "      <td>DX</td>\n",
       "      <td>GEIIS</td>\n",
       "      <td>(1, d, f, 0, 3, 0, 4, 6, 2, 4, f, 5)</td>\n",
       "      <td>...</td>\n",
       "      <td>15830.900366</td>\n",
       "      <td>3066.972578</td>\n",
       "      <td>0.000000</td>\n",
       "      <td>NaN</td>\n",
       "      <td>NaN</td>\n",
       "      <td>NaN</td>\n",
       "      <td>NaN</td>\n",
       "      <td>NaN</td>\n",
       "      <td>NaN</td>\n",
       "      <td>NaN</td>\n",
       "    </tr>\n",
       "    <tr>\n",
       "      <th>1</th>\n",
       "      <td>ISO_IR 100</td>\n",
       "      <td>ORIGINAL</td>\n",
       "      <td>71228e4340de</td>\n",
       "      <td>29b23a11d1e4</td>\n",
       "      <td>f8a528b18394</td>\n",
       "      <td>55d5bf2dc87c</td>\n",
       "      <td>179cea9403ed</td>\n",
       "      <td>DX</td>\n",
       "      <td>NaN</td>\n",
       "      <td>(c, 3, 3, 9, 2, f, 0, 6, a, 4, 0, 1)</td>\n",
       "      <td>...</td>\n",
       "      <td>2271.539958</td>\n",
       "      <td>1024.988986</td>\n",
       "      <td>0.033598</td>\n",
       "      <td>NaN</td>\n",
       "      <td>NaN</td>\n",
       "      <td>NaN</td>\n",
       "      <td>NaN</td>\n",
       "      <td>NaN</td>\n",
       "      <td>NaN</td>\n",
       "      <td>NaN</td>\n",
       "    </tr>\n",
       "    <tr>\n",
       "      <th>2</th>\n",
       "      <td>ISO_IR 100</td>\n",
       "      <td>ORIGINAL</td>\n",
       "      <td>03a65300fa41</td>\n",
       "      <td>8174f49500a5</td>\n",
       "      <td>6e5063be381d</td>\n",
       "      <td>a5847f6338e8</td>\n",
       "      <td>dc2b1c79543a</td>\n",
       "      <td>CR</td>\n",
       "      <td>GEIIS</td>\n",
       "      <td>(e, 7, b, b, d, f, 4, b, 2, 4, 1, 2)</td>\n",
       "      <td>...</td>\n",
       "      <td>2199.463155</td>\n",
       "      <td>881.320778</td>\n",
       "      <td>0.015320</td>\n",
       "      <td>NaN</td>\n",
       "      <td>NaN</td>\n",
       "      <td>NaN</td>\n",
       "      <td>NaN</td>\n",
       "      <td>NaN</td>\n",
       "      <td>NaN</td>\n",
       "      <td>NaN</td>\n",
       "    </tr>\n",
       "    <tr>\n",
       "      <th>3</th>\n",
       "      <td>ISO_IR 100</td>\n",
       "      <td>ORIGINAL</td>\n",
       "      <td>03a65300fa41</td>\n",
       "      <td>d54f6204b044</td>\n",
       "      <td>6e5063be381d</td>\n",
       "      <td>a5847f6338e8</td>\n",
       "      <td>dc2b1c79543a</td>\n",
       "      <td>CR</td>\n",
       "      <td>GEIIS</td>\n",
       "      <td>(e, 7, b, b, d, f, 4, b, 2, 4, 1, 2)</td>\n",
       "      <td>...</td>\n",
       "      <td>2305.600400</td>\n",
       "      <td>871.531660</td>\n",
       "      <td>0.004200</td>\n",
       "      <td>NaN</td>\n",
       "      <td>NaN</td>\n",
       "      <td>NaN</td>\n",
       "      <td>NaN</td>\n",
       "      <td>NaN</td>\n",
       "      <td>NaN</td>\n",
       "      <td>NaN</td>\n",
       "    </tr>\n",
       "    <tr>\n",
       "      <th>4</th>\n",
       "      <td>ISO_IR 100</td>\n",
       "      <td>ORIGINAL</td>\n",
       "      <td>71228e4340de</td>\n",
       "      <td>d51cadde8626</td>\n",
       "      <td>03e9532a93cc</td>\n",
       "      <td>b2d584ec0e2d</td>\n",
       "      <td>14a2a048836a</td>\n",
       "      <td>DX</td>\n",
       "      <td>NaN</td>\n",
       "      <td>(d, 4, 2, 6, 8, f, 2, 6, e, d, 0, 5)</td>\n",
       "      <td>...</td>\n",
       "      <td>1789.618069</td>\n",
       "      <td>1174.376957</td>\n",
       "      <td>0.204002</td>\n",
       "      <td>NaN</td>\n",
       "      <td>NaN</td>\n",
       "      <td>NaN</td>\n",
       "      <td>NaN</td>\n",
       "      <td>NaN</td>\n",
       "      <td>NaN</td>\n",
       "      <td>NaN</td>\n",
       "    </tr>\n",
       "  </tbody>\n",
       "</table>\n",
       "<p>5 rows × 52 columns</p>\n",
       "</div>"
      ],
      "text/plain": [
       "  SpecificCharacterSet ImageType   SOPClassUID SOPInstanceUID     StudyDate  \\\n",
       "0           ISO_IR 100  ORIGINAL  71228e4340de   d8ba599611e5  837af68926b7   \n",
       "1           ISO_IR 100  ORIGINAL  71228e4340de   29b23a11d1e4  f8a528b18394   \n",
       "2           ISO_IR 100  ORIGINAL  03a65300fa41   8174f49500a5  6e5063be381d   \n",
       "3           ISO_IR 100  ORIGINAL  03a65300fa41   d54f6204b044  6e5063be381d   \n",
       "4           ISO_IR 100  ORIGINAL  71228e4340de   d51cadde8626  03e9532a93cc   \n",
       "\n",
       "      StudyTime AccessionNumber Modality         \\\n",
       "0  81c1a714dbda    c4aef4fc15a2       DX  GEIIS   \n",
       "1  55d5bf2dc87c    179cea9403ed       DX    NaN   \n",
       "2  a5847f6338e8    dc2b1c79543a       CR  GEIIS   \n",
       "3  a5847f6338e8    dc2b1c79543a       CR  GEIIS   \n",
       "4  b2d584ec0e2d    14a2a048836a       DX    NaN   \n",
       "\n",
       "                            PatientName  ...      img_mean      img_std  \\\n",
       "0  (1, d, f, 0, 3, 0, 4, 6, 2, 4, f, 5)  ...  15830.900366  3066.972578   \n",
       "1  (c, 3, 3, 9, 2, f, 0, 6, a, 4, 0, 1)  ...   2271.539958  1024.988986   \n",
       "2  (e, 7, b, b, d, f, 4, b, 2, 4, 1, 2)  ...   2199.463155   881.320778   \n",
       "3  (e, 7, b, b, d, f, 4, b, 2, 4, 1, 2)  ...   2305.600400   871.531660   \n",
       "4  (d, 4, 2, 6, 8, f, 2, 6, e, d, 0, 5)  ...   1789.618069  1174.376957   \n",
       "\n",
       "  img_pct_window ImageType2 ImageType3  ImageType4 ImageType5 ImageType6  \\\n",
       "0       0.000000        NaN        NaN         NaN        NaN        NaN   \n",
       "1       0.033598        NaN        NaN         NaN        NaN        NaN   \n",
       "2       0.015320        NaN        NaN         NaN        NaN        NaN   \n",
       "3       0.004200        NaN        NaN         NaN        NaN        NaN   \n",
       "4       0.204002        NaN        NaN         NaN        NaN        NaN   \n",
       "\n",
       "  ImageType7  ImageType8  \n",
       "0        NaN         NaN  \n",
       "1        NaN         NaN  \n",
       "2        NaN         NaN  \n",
       "3        NaN         NaN  \n",
       "4        NaN         NaN  \n",
       "\n",
       "[5 rows x 52 columns]"
      ]
     },
     "execution_count": 14,
     "metadata": {},
     "output_type": "execute_result"
    }
   ],
   "source": [
    "dicom_df = pd.read_pickle('../input/visualizing-dicoms/dicoms_df.pkl')\n",
    "dicom_df.head()"
   ]
  },
  {
   "cell_type": "code",
   "execution_count": 15,
   "id": "prompt-venue",
   "metadata": {
    "execution": {
     "iopub.execute_input": "2021-07-12T11:42:40.126835Z",
     "iopub.status.busy": "2021-07-12T11:42:40.122173Z",
     "iopub.status.idle": "2021-07-12T11:42:40.183300Z",
     "shell.execute_reply": "2021-07-12T11:42:40.183818Z",
     "shell.execute_reply.started": "2021-07-12T11:39:55.252108Z"
    },
    "papermill": {
     "duration": 0.091622,
     "end_time": "2021-07-12T11:42:40.183988",
     "exception": false,
     "start_time": "2021-07-12T11:42:40.092366",
     "status": "completed"
    },
    "tags": []
   },
   "outputs": [
    {
     "data": {
      "text/html": [
       "<div>\n",
       "<style scoped>\n",
       "    .dataframe tbody tr th:only-of-type {\n",
       "        vertical-align: middle;\n",
       "    }\n",
       "\n",
       "    .dataframe tbody tr th {\n",
       "        vertical-align: top;\n",
       "    }\n",
       "\n",
       "    .dataframe thead th {\n",
       "        text-align: right;\n",
       "    }\n",
       "</style>\n",
       "<table border=\"1\" class=\"dataframe\">\n",
       "  <thead>\n",
       "    <tr style=\"text-align: right;\">\n",
       "      <th></th>\n",
       "      <th>SpecificCharacterSet</th>\n",
       "      <th>ImageType</th>\n",
       "      <th>SOPClassUID</th>\n",
       "      <th>SOPInstanceUID</th>\n",
       "      <th>StudyDate</th>\n",
       "      <th>StudyTime</th>\n",
       "      <th>AccessionNumber</th>\n",
       "      <th>Modality</th>\n",
       "      <th></th>\n",
       "      <th>PatientName</th>\n",
       "      <th>...</th>\n",
       "      <th>ImageType2</th>\n",
       "      <th>ImageType3</th>\n",
       "      <th>ImageType4</th>\n",
       "      <th>ImageType5</th>\n",
       "      <th>ImageType6</th>\n",
       "      <th>ImageType7</th>\n",
       "      <th>ImageType8</th>\n",
       "      <th>class_y</th>\n",
       "      <th>num_of_boxes</th>\n",
       "      <th>label_COORD</th>\n",
       "    </tr>\n",
       "  </thead>\n",
       "  <tbody>\n",
       "    <tr>\n",
       "      <th>0</th>\n",
       "      <td>ISO_IR 100</td>\n",
       "      <td>ORIGINAL</td>\n",
       "      <td>71228e4340de</td>\n",
       "      <td>d8ba599611e5</td>\n",
       "      <td>837af68926b7</td>\n",
       "      <td>81c1a714dbda</td>\n",
       "      <td>c4aef4fc15a2</td>\n",
       "      <td>DX</td>\n",
       "      <td>GEIIS</td>\n",
       "      <td>(1, d, f, 0, 3, 0, 4, 6, 2, 4, f, 5)</td>\n",
       "      <td>...</td>\n",
       "      <td>NaN</td>\n",
       "      <td>NaN</td>\n",
       "      <td>NaN</td>\n",
       "      <td>NaN</td>\n",
       "      <td>NaN</td>\n",
       "      <td>NaN</td>\n",
       "      <td>NaN</td>\n",
       "      <td>Negative</td>\n",
       "      <td>1</td>\n",
       "      <td>[0, 0, 1, 1]</td>\n",
       "    </tr>\n",
       "  </tbody>\n",
       "</table>\n",
       "<p>1 rows × 55 columns</p>\n",
       "</div>"
      ],
      "text/plain": [
       "  SpecificCharacterSet ImageType   SOPClassUID SOPInstanceUID     StudyDate  \\\n",
       "0           ISO_IR 100  ORIGINAL  71228e4340de   d8ba599611e5  837af68926b7   \n",
       "\n",
       "      StudyTime AccessionNumber Modality         \\\n",
       "0  81c1a714dbda    c4aef4fc15a2       DX  GEIIS   \n",
       "\n",
       "                            PatientName  ... ImageType2 ImageType3 ImageType4  \\\n",
       "0  (1, d, f, 0, 3, 0, 4, 6, 2, 4, f, 5)  ...        NaN        NaN        NaN   \n",
       "\n",
       "  ImageType5 ImageType6  ImageType7 ImageType8   class_y num_of_boxes  \\\n",
       "0        NaN        NaN         NaN        NaN  Negative            1   \n",
       "\n",
       "    label_COORD  \n",
       "0  [0, 0, 1, 1]  \n",
       "\n",
       "[1 rows x 55 columns]"
      ]
     },
     "execution_count": 15,
     "metadata": {},
     "output_type": "execute_result"
    }
   ],
   "source": [
    "dicom_merge = pd.merge(dicom_df,train_df, on = 'SOPInstanceUID')\n",
    "dicom_merge[:1]"
   ]
  },
  {
   "cell_type": "markdown",
   "id": "acquired-letter",
   "metadata": {
    "papermill": {
     "duration": 0.026313,
     "end_time": "2021-07-12T11:42:40.236340",
     "exception": false,
     "start_time": "2021-07-12T11:42:40.210027",
     "status": "completed"
    },
    "tags": []
   },
   "source": [
    "Save the dataframe as `.csv` file. Before that, we check that the file path `fname` corresponds to the correct `SOPINstanceUID`"
   ]
  },
  {
   "cell_type": "code",
   "execution_count": 16,
   "id": "opposed-horizon",
   "metadata": {
    "execution": {
     "iopub.execute_input": "2021-07-12T11:42:40.293491Z",
     "iopub.status.busy": "2021-07-12T11:42:40.292794Z",
     "iopub.status.idle": "2021-07-12T11:42:40.296778Z",
     "shell.execute_reply": "2021-07-12T11:42:40.297269Z",
     "shell.execute_reply.started": "2021-07-12T11:39:55.332556Z"
    },
    "papermill": {
     "duration": 0.035333,
     "end_time": "2021-07-12T11:42:40.297464",
     "exception": false,
     "start_time": "2021-07-12T11:42:40.262131",
     "status": "completed"
    },
    "tags": []
   },
   "outputs": [
    {
     "data": {
      "text/plain": [
       "'../input/siim-covid19-detection/train/096eae67f478/4479c991df08/45f0608b7850.dcm'"
      ]
     },
     "execution_count": 16,
     "metadata": {},
     "output_type": "execute_result"
    }
   ],
   "source": [
    "dicom_merge['fname'][100]"
   ]
  },
  {
   "cell_type": "code",
   "execution_count": 17,
   "id": "changing-welsh",
   "metadata": {
    "execution": {
     "iopub.execute_input": "2021-07-12T11:42:40.352296Z",
     "iopub.status.busy": "2021-07-12T11:42:40.351717Z",
     "iopub.status.idle": "2021-07-12T11:42:40.356445Z",
     "shell.execute_reply": "2021-07-12T11:42:40.357003Z",
     "shell.execute_reply.started": "2021-07-12T11:39:55.340672Z"
    },
    "papermill": {
     "duration": 0.034016,
     "end_time": "2021-07-12T11:42:40.357161",
     "exception": false,
     "start_time": "2021-07-12T11:42:40.323145",
     "status": "completed"
    },
    "tags": []
   },
   "outputs": [
    {
     "data": {
      "text/plain": [
       "'45f0608b7850'"
      ]
     },
     "execution_count": 17,
     "metadata": {},
     "output_type": "execute_result"
    }
   ],
   "source": [
    "dicom_merge['SOPInstanceUID'][100]"
   ]
  },
  {
   "cell_type": "code",
   "execution_count": 18,
   "id": "talented-thousand",
   "metadata": {
    "execution": {
     "iopub.execute_input": "2021-07-12T11:42:40.412536Z",
     "iopub.status.busy": "2021-07-12T11:42:40.411897Z",
     "iopub.status.idle": "2021-07-12T11:42:41.721362Z",
     "shell.execute_reply": "2021-07-12T11:42:41.721912Z",
     "shell.execute_reply.started": "2021-07-12T11:39:55.354170Z"
    },
    "papermill": {
     "duration": 1.338784,
     "end_time": "2021-07-12T11:42:41.722083",
     "exception": false,
     "start_time": "2021-07-12T11:42:40.383299",
     "status": "completed"
    },
    "tags": []
   },
   "outputs": [],
   "source": [
    "dicom_merge.to_csv('dicom_merge.csv', index = False)"
   ]
  }
 ],
 "metadata": {
  "kernelspec": {
   "display_name": "Python 3",
   "language": "python",
   "name": "python3"
  },
  "language_info": {
   "codemirror_mode": {
    "name": "ipython",
    "version": 3
   },
   "file_extension": ".py",
   "mimetype": "text/x-python",
   "name": "python",
   "nbconvert_exporter": "python",
   "pygments_lexer": "ipython3",
   "version": "3.7.10"
  },
  "papermill": {
   "default_parameters": {},
   "duration": 19.487061,
   "end_time": "2021-07-12T11:42:43.646560",
   "environment_variables": {},
   "exception": null,
   "input_path": "__notebook__.ipynb",
   "output_path": "__notebook__.ipynb",
   "parameters": {},
   "start_time": "2021-07-12T11:42:24.159499",
   "version": "2.3.3"
  }
 },
 "nbformat": 4,
 "nbformat_minor": 5
}
